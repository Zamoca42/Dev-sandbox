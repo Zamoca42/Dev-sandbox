{
 "cells": [
  {
   "cell_type": "code",
   "execution_count": 1,
   "id": "43217799",
   "metadata": {},
   "outputs": [],
   "source": [
    "import os\n",
    "os.environ['DJANGO_SETTINGS_MODULE'] = 'django_test.settings'\n",
    "os.environ[\"DJANGO_ALLOW_ASYNC_UNSAFE\"] = \"true\"\n",
    "\n",
    "import django\n",
    "django.setup()"
   ]
  },
  {
   "cell_type": "code",
   "execution_count": 2,
   "id": "d5da44a2",
   "metadata": {},
   "outputs": [],
   "source": [
    "from instagram.models import Post"
   ]
  },
  {
   "cell_type": "code",
   "execution_count": 3,
   "id": "3dff897d",
   "metadata": {},
   "outputs": [
    {
     "name": "stdout",
     "output_type": "stream",
     "text": [
      "<class 'django.db.models.query.QuerySet'>\n",
      "SELECT \"instagram_post\".\"id\", \"instagram_post\".\"message\", \"instagram_post\".\"photo\", \"instagram_post\".\"is_public\", \"instagram_post\".\"created_at\", \"instagram_post\".\"update_at\" FROM \"instagram_post\"\n"
     ]
    },
    {
     "data": {
      "text/plain": [
       "<QuerySet [<Post: 첫번째 메세지>, <Post: 두번째 메세지>, <Post: 세번째 메세지>]>"
      ]
     },
     "execution_count": 3,
     "metadata": {},
     "output_type": "execute_result"
    }
   ],
   "source": [
    "# Cell\n",
    "\n",
    "qs = Post.objects.all()\n",
    "print(type(qs))\n",
    "print(qs.query)\n",
    "qs"
   ]
  },
  {
   "cell_type": "code",
   "execution_count": 4,
   "id": "bd421d69",
   "metadata": {},
   "outputs": [
    {
     "name": "stdout",
     "output_type": "stream",
     "text": [
      "SELECT \"instagram_post\".\"id\", \"instagram_post\".\"message\", \"instagram_post\".\"photo\", \"instagram_post\".\"is_public\", \"instagram_post\".\"created_at\", \"instagram_post\".\"update_at\" FROM \"instagram_post\" ORDER BY \"instagram_post\".\"id\" DESC\n"
     ]
    },
    {
     "data": {
      "text/plain": [
       "<QuerySet [<Post: 세번째 메세지>, <Post: 두번째 메세지>, <Post: 첫번째 메세지>]>"
      ]
     },
     "execution_count": 4,
     "metadata": {},
     "output_type": "execute_result"
    }
   ],
   "source": [
    "qs = Post.objects.all().order_by('-id')\n",
    "print(qs.query)\n",
    "qs"
   ]
  },
  {
   "cell_type": "code",
   "execution_count": 5,
   "id": "54ab23a2",
   "metadata": {},
   "outputs": [
    {
     "name": "stdout",
     "output_type": "stream",
     "text": [
      "SELECT \"instagram_post\".\"id\", \"instagram_post\".\"message\", \"instagram_post\".\"photo\", \"instagram_post\".\"is_public\", \"instagram_post\".\"created_at\", \"instagram_post\".\"update_at\" FROM \"instagram_post\" ORDER BY \"instagram_post\".\"id\" DESC LIMIT 2\n"
     ]
    },
    {
     "data": {
      "text/plain": [
       "<QuerySet [<Post: 세번째 메세지>, <Post: 두번째 메세지>]>"
      ]
     },
     "execution_count": 5,
     "metadata": {},
     "output_type": "execute_result"
    }
   ],
   "source": [
    "qs = Post.objects.all().order_by('-id')[:2]\n",
    "print(qs.query)\n",
    "qs"
   ]
  },
  {
   "cell_type": "code",
   "execution_count": 6,
   "id": "2ce4ca2e",
   "metadata": {},
   "outputs": [
    {
     "name": "stdout",
     "output_type": "stream",
     "text": [
      "3 세번째 메세지 2022-05-14 12:14:15.836442+00:00\n",
      "2 두번째 메세지 2022-05-14 12:14:10.473751+00:00\n"
     ]
    }
   ],
   "source": [
    "for post in qs:\n",
    "    print(post.id, post.message, post.created_at)"
   ]
  },
  {
   "cell_type": "code",
   "execution_count": 7,
   "id": "df53792b",
   "metadata": {},
   "outputs": [
    {
     "data": {
      "text/plain": [
       "<Post: 세번째 메세지>"
      ]
     },
     "execution_count": 7,
     "metadata": {},
     "output_type": "execute_result"
    }
   ],
   "source": [
    "qs = Post.objects.all()\n",
    "qs[2]"
   ]
  },
  {
   "cell_type": "code",
   "execution_count": 8,
   "id": "9e21b165",
   "metadata": {},
   "outputs": [],
   "source": [
    "# qs[4]"
   ]
  },
  {
   "cell_type": "code",
   "execution_count": 9,
   "id": "fed05caa",
   "metadata": {},
   "outputs": [],
   "source": [
    "# qs.get(id__lte=2) # less than, less than equal, greater than, greater than equal"
   ]
  },
  {
   "cell_type": "code",
   "execution_count": 10,
   "id": "e11c4ed8",
   "metadata": {},
   "outputs": [
    {
     "data": {
      "text/plain": [
       "<Post: 첫번째 메세지>"
      ]
     },
     "execution_count": 10,
     "metadata": {},
     "output_type": "execute_result"
    }
   ],
   "source": [
    "qs.first()"
   ]
  },
  {
   "cell_type": "code",
   "execution_count": 11,
   "id": "d6358417",
   "metadata": {},
   "outputs": [
    {
     "data": {
      "text/plain": [
       "<Post: 세번째 메세지>"
      ]
     },
     "execution_count": 11,
     "metadata": {},
     "output_type": "execute_result"
    }
   ],
   "source": [
    "qs.last()"
   ]
  },
  {
   "cell_type": "code",
   "execution_count": 12,
   "id": "39f04160",
   "metadata": {},
   "outputs": [
    {
     "data": {
      "text/plain": [
       "<QuerySet []>"
      ]
     },
     "execution_count": 12,
     "metadata": {},
     "output_type": "execute_result"
    }
   ],
   "source": [
    "qs.none()"
   ]
  },
  {
   "cell_type": "code",
   "execution_count": null,
   "id": "6eba1b43",
   "metadata": {},
   "outputs": [],
   "source": []
  },
  {
   "cell_type": "code",
   "execution_count": 13,
   "id": "985a65c5",
   "metadata": {},
   "outputs": [],
   "source": [
    "from django.db.models import Q"
   ]
  },
  {
   "cell_type": "code",
   "execution_count": 14,
   "id": "202274a7",
   "metadata": {},
   "outputs": [
    {
     "ename": "NameError",
     "evalue": "name 'query' is not defined",
     "output_type": "error",
     "traceback": [
      "\u001b[0;31m---------------------------------------------------------------------------\u001b[0m",
      "\u001b[0;31mNameError\u001b[0m                                 Traceback (most recent call last)",
      "Input \u001b[0;32mIn [14]\u001b[0m, in \u001b[0;36m<cell line: 5>\u001b[0;34m()\u001b[0m\n\u001b[1;32m      1\u001b[0m qs \u001b[38;5;241m=\u001b[39m Post\u001b[38;5;241m.\u001b[39mobjects\u001b[38;5;241m.\u001b[39mall()\n\u001b[1;32m      3\u001b[0m \u001b[38;5;66;03m# qs = qs.filter(id_gte=2, message__icontains=query)\u001b[39;00m\n\u001b[0;32m----> 5\u001b[0m cond \u001b[38;5;241m=\u001b[39m Q(id__gte\u001b[38;5;241m=\u001b[39m\u001b[38;5;241m2\u001b[39m) \u001b[38;5;241m|\u001b[39m Q(message__icontains\u001b[38;5;241m=\u001b[39m\u001b[43mquery\u001b[49m)\n\u001b[1;32m      6\u001b[0m \u001b[38;5;66;03m# cond &= Q(...)\u001b[39;00m\n\u001b[1;32m      8\u001b[0m qs \u001b[38;5;241m=\u001b[39m qs\u001b[38;5;241m.\u001b[39mfilter(cond)\n",
      "\u001b[0;31mNameError\u001b[0m: name 'query' is not defined"
     ]
    }
   ],
   "source": [
    "qs = Post.objects.all()\n",
    "\n",
    "# qs = qs.filter(id_gte=2, message__icontains=query)\n",
    "\n",
    "cond = Q(id__gte=2) | Q(message__icontains=query)\n",
    "# cond &= Q(...)\n",
    "\n",
    "qs = qs.filter(cond)\n",
    "print(qs.query)"
   ]
  },
  {
   "cell_type": "code",
   "execution_count": null,
   "id": "eba3e560",
   "metadata": {},
   "outputs": [],
   "source": []
  }
 ],
 "metadata": {
  "kernelspec": {
   "display_name": "Python 3 (ipykernel)",
   "language": "python",
   "name": "python3"
  },
  "language_info": {
   "codemirror_mode": {
    "name": "ipython",
    "version": 3
   },
   "file_extension": ".py",
   "mimetype": "text/x-python",
   "name": "python",
   "nbconvert_exporter": "python",
   "pygments_lexer": "ipython3",
   "version": "3.9.12"
  }
 },
 "nbformat": 4,
 "nbformat_minor": 5
}
